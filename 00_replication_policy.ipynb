{
 "cells": [
  {
   "cell_type": "markdown",
   "metadata": {},
   "source": [
    "# DataONE Replication Demo\n",
    "\n",
    "This notebook demonstrates how to use the DataONE replication service to replicate data from a DataONE Member repository (MN) to another member repository. It uses the DataONE Python libraries to interact with the DataONE APIs.\n",
    "The DataONE python libraries are located in GitHub at [github.com/DataONEorg/d1_python](https://github.com/DataONEorg/d1_python) with documentation at [dataone-python.readthedocs.io](https://dataone-python.readthedocs.io/en/latest/). We also provide the [DataONE R client packages](https://dataoneorg.r-universe.dev/dataone) for R users (also downloadable from [CRAN](https://cran.r-project.org/web/packages/dataone/index.html).\n",
    "\n",
    "## Overview of replication\n",
    "\n",
    "![DataONE Replication](images/dataone-replication.png)\n",
    "\n",
    "## Installation\n",
    "\n",
    "Installation under a virtual environment is recommended. [`uv`](https://docs.astral.sh/uv/) is a tool for creating and managing virtual environments in Python. It is similar to `virtualenv` but has some additional features. You can use any virtual environment tool that allows you to load the following packages, including the dependencies for a Jupyter notebook. We'll be demonstrating using Visual Studio Code with the Jupyter extension, but you can use any Jupyter notebook environment.\n",
    "\n",
    "uv:\n",
    "\n",
    "```bash\n",
    "mkdir d1-replication-demo\n",
    "cd d1-replication-demo\n",
    "uv init\n",
    "uv add dataone.cli \n",
    "uv add ipykernel\n",
    "```\n",
    "\n",
    "While you could create your own virtual environment and notebook, we have created a template to work from that includes functions that will be helpful during the demo. Clone or download the repository from https://github.com/DataONEorg/d1-replication-demo. Once you have a copy of the repository, change your working directory and install the dependencies:\n",
    "\n",
    "```bash\n",
    "cd d1-replication-demo\n",
    "uv install\n",
    "```\n",
    "\n",
    "## Create a dataset for testing\n",
    "\n",
    "Let's create a dataset for testing replication in a DataONE testing environment, particularly using the [KNB Test Repository](https://dev.nceas.ucsb.edu/). \n",
    "\n",
    "![KNB](images/knb-banner.png)\n",
    "\n",
    "The dataset will consist of a single CSV file and the metadata describing it, but could in theory contain as many objects as needed.\n",
    "\n",
    "### Login to the repository using your ORCID identity\n",
    "\n",
    "DataONE uses ORCID as a common user identifier for sharing across the network of repositories. If you do not have an ORCID account, you can create one at [orcid.org](https://orcid.org/).\n",
    "\n",
    "Click the 'Sign In' button in the top right corner of the KNB Test Repository page, and then click the 'Sign in with ORCID' button. You will be redirected to the ORCID login page. After logging in, you will be redirected back to the KNB Test Repository.\n",
    "\n",
    "![KNB Sign In](images/knb-login.png)\n",
    "\n",
    "### Save your DataONE API key\n",
    "\n",
    "Later we will want to use the DataONE API to interact with the repository. To do this, we need an API key that is associated with your ORCID account. We'll copy the API key to a file named `jwtkey` in the current directory. This key will be used to authenticate your requests to the DataONE API when we are working in python. You can find the API key in the KNB Test Repository by clicking on your name in the top right corner, then selecting 'My profile'. In the 'Session' tab, you will see your API key listed under 'Authentication Token'. Copy this key and save it to a file named `jwtkey` in the current directory.\n",
    "\n",
    "![KNB API Key](images/knb-auth-token.png)\n",
    "\n",
    "### Create a new dataset \n",
    "\n",
    "Now let's create a simple single file dataset. Click 'Submit' to start a new dataset, and then pick a small CSV file to upload (we provide one in the example repository `data` directory if you don't have one handy). You can also add a PNG image to the dataset, but this is not required. \n",
    "\n",
    "![KNB Submit](images/knb-submit.png)\n",
    "\n",
    "Once you have added your files, you'll need to provide the minimal metadata required to create the dataset. This includes a title, abstract, and name and email for the creator and contact. You can also add additional metadata if you wish, but this is not required for the demo. You can find the required metadata fields as they are marked with a red asterisk (*).\n",
    "\n",
    "![KNB Dataset](images/knb-dataset.png)\n",
    "\n",
    "# Replication across DataONE\n",
    "\n",
    "Now that we have a dataset in the KNB Test Repository, we can replicate it to another DataONE Member Node (MN). The replication service allows us to create copies of the dataset in other repositories, which can be useful for backup and redundancy purposes. Each object in DataONE is referenced via its Persistent Identifier (PID), which is a unique identifier for the object and visible in the citation on the dataset landing page. The PID is used to retrieve the object from the repository, and it is also used to set the replication policy for the object.\n",
    "\n",
    "## Getting a repository client\n",
    "\n",
    "Let's start by importing the necessary libraries and setting up the DataONE client to interact with the KNB Test Repository. We will use the `d1_client` library to create a client for the KNB Test Repository, which is a member repository in the test network.\n",
    "\n",
    "The DataONE python clients provide an abstraction of the DataONE APIs enabling interaction with DataONE Member (MN) and Coordinating (CN) Nodes. Since the APIs of MNs and CNs differ, there are two basic types of client - one for Member repositories (MNs) and one for Coordinating Nodes (CNs) that derive from a common base."
   ]
  },
  {
   "cell_type": "code",
   "execution_count": 27,
   "metadata": {},
   "outputs": [],
   "source": [
    "import datetime\n",
    "import d1_client.mnclient_2_0\n",
    "import d1_client.cnclient_2_0\n",
    "import d1_common.types.exceptions\n"
   ]
  },
  {
   "cell_type": "code",
   "execution_count": 2,
   "metadata": {},
   "outputs": [
    {
     "name": "stdout",
     "output_type": "stream",
     "text": [
      "KNB Test Node                  https://dev.nceas.ucsb.edu/knb/d1/mn\n"
     ]
    }
   ],
   "source": [
    "# Authentication token (JWT) from the DataONE Test Environment\n",
    "# Create a file named jwtkey with the token on the first line and no other lines\n",
    "with open(\"jwtkey\", \"r\") as f:\n",
    "    for line in f:\n",
    "        auth_token = line.strip()\n",
    "\n",
    "# Set the token in the request header\n",
    "options: dict = {\"headers\": {\"Authorization\": \"Bearer \" + auth_token}}\n",
    "\n",
    "# Base URL of the KNB Test Repository\n",
    "base_url = \"https://dev.nceas.ucsb.edu/knb/d1/mn\"\n",
    "repo = d1_client.mnclient_2_0.MemberNodeClient_2_0(base_url, **options)\n",
    "\n",
    "# Call the getCapabilities API method\n",
    "# https://dataone-architecture-documentation.readthedocs.io/en/latest/apis/MN_APIs.html#MNCore.getCapabilities\n",
    "node = repo.getCapabilities()\n",
    "\n",
    "# Response is an instance of a Node document that can be accessed through its properties\n",
    "# https://dataone-architecture-documentation.readthedocs.io/en/latest/apis/Types.html#Types.Node\n",
    "print(f\"{node.name:30} {node.baseURL}\")\n"
   ]
  },
  {
   "cell_type": "markdown",
   "metadata": {},
   "source": [
    "Note that the variable `repo` represents the KNB Test Repository, and we can use that variable to manipulate our dataset. "
   ]
  },
  {
   "cell_type": "markdown",
   "metadata": {},
   "source": [
    "## Getting a CN client\n",
    "\n",
    "In addition to the repository, we can also interact with the DataONE Coordinating Nodes (CNs), which provide network-wide services that are useful to clients. The CNs provide services such as replication, synchronization, and search. We can create a client for the CNs using the `d1_cn_client` library, and then use that to verify that our saved API key is recognized and valid. You should see your ORCID credentials printed out in the output of the cell below."
   ]
  },
  {
   "cell_type": "code",
   "execution_count": 3,
   "metadata": {},
   "outputs": [
    {
     "name": "stdout",
     "output_type": "stream",
     "text": [
      "<?xml version=\"1.0\" ?><ns1:subjectInfo xmlns:ns1=\"http://ns.dataone.org/service/types/v1\"><person><subject>http://orcid.org/0000-0003-0077-4738</subject><givenName>Matthew B.</givenName><familyName>Jones</familyName><isMemberOf>CN=DBO,DC=dataone,DC=org</isMemberOf><isMemberOf>CN=SASAP,DC=dataone,DC=org</isMemberOf><isMemberOf>CN=cerp-sfwmd-admins,DC=dataone,DC=org</isMemberOf><isMemberOf>CN=delta-swg-23,DC=dataone,DC=org</isMemberOf><isMemberOf>CN=SASAP Data Team,DC=dataone,DC=org</isMemberOf><isMemberOf>CN=Likely Suspects Framework Users,DC=dataone,DC=org</isMemberOf><isMemberOf>CN=drp-portal-admins,DC=dataone,DC=org</isMemberOf><isMemberOf>CN=knb-data-admins,DC=dataone,DC=org</isMemberOf><isMemberOf>CN=DataONE-Support,DC=dataone,DC=org</isMemberOf><isMemberOf>CN=drp-data-admins,DC=dataone,DC=org</isMemberOf><isMemberOf>CN=sctld-admins,DC=dataone,DC=org</isMemberOf><isMemberOf>CN=cib-admins,DC=dataone,DC=org</isMemberOf><isMemberOf>CN=cib-curators,DC=dataone,DC=org</isMemberOf><isMemberOf>CN=arctic-data-admins,DC=dataone,DC=org</isMemberOf><isMemberOf>CN=cib-users,DC=dataone,DC=org</isMemberOf><equivalentIdentity>CN=Matt Jones A729,O=Google,C=US,DC=cilogon,DC=org</equivalentIdentity><equivalentIdentity>UID=jones,O=NCEAS,DC=ecoinformatics,DC=org</equivalentIdentity><verified>false</verified></person><person><subject>CN=Matt Jones A729,O=Google,C=US,DC=cilogon,DC=org</subject><givenName>Matthew</givenName><familyName>Jones</familyName><isMemberOf>CN=dataone-coredev,DC=dataone,DC=org</isMemberOf><isMemberOf>CN=NCEAS-interns,DC=dataone,DC=org</isMemberOf><isMemberOf>CN=SASAP Data Team,DC=dataone,DC=org</isMemberOf><equivalentIdentity>UID=jones,O=NCEAS,DC=ecoinformatics,DC=org</equivalentIdentity><equivalentIdentity>UID=mjones,O=LTER,DC=ecoinformatics,DC=org</equivalentIdentity><equivalentIdentity>CN=Matthew Jones A332,O=ProtectNetwork,C=US,DC=cilogon,DC=org</equivalentIdentity><equivalentIdentity>http://orcid.org/0000-0003-0077-4738</equivalentIdentity><verified>true</verified></person><person><subject>uid=jones,o=NCEAS,dc=ecoinformatics,dc=org</subject><givenName>Matthew</givenName><familyName>Jones</familyName><equivalentIdentity>http://orcid.org/0000-0003-0077-4738</equivalentIdentity><verified>false</verified></person><person><subject>UID=mjones,O=LTER,DC=ecoinformatics,DC=org</subject><givenName>NA</givenName><familyName>NA</familyName><email>NA</email></person><person><subject>CN=Matthew Jones A332,O=ProtectNetwork,C=US,DC=cilogon,DC=org</subject><givenName>Matthew</givenName><familyName>Jones</familyName><verified>false</verified></person><group><subject>CN=dataone-coredev,DC=dataone,DC=org</subject><groupName>dataone-coredev</groupName><hasMember>CN=Matt Jones A729,O=Google,C=US,DC=cilogon,DC=org</hasMember><hasMember>CN=Benjamin Leinfelder A515,O=University of Chicago,C=US,DC=cilogon,DC=org</hasMember><hasMember>CN=ben leinfelder A756,O=Google,C=US,DC=cilogon,DC=org</hasMember><hasMember>CN=Robert P Waltz A904,O=Google,C=US,DC=cilogon,DC=org</hasMember><rightsHolder>CN=Matt Jones A729,O=Google,C=US,DC=cilogon,DC=org</rightsHolder></group><group><subject>CN=NCEAS-interns,DC=dataone,DC=org</subject><groupName>NCEAS-interns</groupName><hasMember>CN=Jessica Couture A35351,O=Google,C=US,DC=cilogon,DC=org</hasMember><hasMember>CN=Matt Jones A729,O=Google,C=US,DC=cilogon,DC=org</hasMember><rightsHolder>CN=Jessica Couture A35351,O=Google,C=US,DC=cilogon,DC=org</rightsHolder></group><group><subject>CN=SASAP Data Team,DC=dataone,DC=org</subject><groupName>SASAP Data Team</groupName><hasMember>http://orcid.org/0000-0003-4703-1974</hasMember><hasMember>CN=Susan Clark A96891,O=University of California-Santa Barbara,C=US,DC=cilogon,DC=org</hasMember><hasMember>http://orcid.org/0000-0002-4244-2865</hasMember><hasMember>http://orcid.org/0000-0002-5300-3075</hasMember><hasMember>http://orcid.org/0000-0002-1006-9496</hasMember><hasMember>CN=Matt Jones A729,O=Google,C=US,DC=cilogon,DC=org</hasMember><hasMember>http://orcid.org/0000-0002-8121-2341</hasMember><hasMember>http://orcid.org/0000-0003-0077-4738</hasMember><hasMember>http://orcid.org/0000-0002-0381-3766</hasMember><hasMember>http://orcid.org/0000-0003-2192-431X</hasMember><hasMember>http://orcid.org/0000-0003-3926-7039</hasMember><rightsHolder>http://orcid.org/0000-0003-4703-1974</rightsHolder></group><group><subject>CN=DBO,DC=dataone,DC=org</subject><groupName>Distributed Biological Observatory</groupName><hasMember>http://orcid.org/0000-0003-0077-4738</hasMember><rightsHolder>http://orcid.org/0000-0003-0077-4738</rightsHolder></group><group><subject>CN=SASAP,DC=dataone,DC=org</subject><groupName>SASAP</groupName><hasMember>http://orcid.org/0000-0003-4703-1974</hasMember><hasMember>http://orcid.org/0000-0002-5415-3534</hasMember><hasMember>http://orcid.org/0000-0003-0003-2515</hasMember><hasMember>http://orcid.org/0000-0002-4286-6959</hasMember><hasMember>http://orcid.org/0000-0001-7209-9757</hasMember><hasMember>http://orcid.org/0000-0002-2820-8714</hasMember><hasMember>http://orcid.org/0000-0002-5859-8602</hasMember><hasMember>http://orcid.org/0000-0002-4244-2865</hasMember><hasMember>http://orcid.org/0000-0003-2878-3943</hasMember><hasMember>http://orcid.org/0000-0001-7379-185X</hasMember><hasMember>http://orcid.org/0000-0002-1006-9496</hasMember><hasMember>http://orcid.org/0000-0002-0908-6926</hasMember><hasMember>http://orcid.org/0000-0002-7705-5670</hasMember><hasMember>http://orcid.org/0000-0002-8121-2341</hasMember><hasMember>http://orcid.org/0000-0003-0077-4738</hasMember><hasMember>http://orcid.org/0000-0002-4953-7189</hasMember><hasMember>http://orcid.org/0000-0002-6689-9392</hasMember><hasMember>http://orcid.org/0000-0001-8874-7595</hasMember><hasMember>http://orcid.org/0000-0002-8900-9479</hasMember><hasMember>http://orcid.org/0000-0002-0381-3766</hasMember><hasMember>http://orcid.org/0000-0001-9663-2923</hasMember><hasMember>http://orcid.org/0000-0002-2561-5840</hasMember><hasMember>http://orcid.org/0000-0003-2057-2578</hasMember><hasMember>http://orcid.org/0000-0002-6220-0134</hasMember><hasMember>http://orcid.org/0000-0003-3283-554X</hasMember><hasMember>http://orcid.org/0000-0002-6316-0058</hasMember><hasMember>http://orcid.org/0000-0002-4830-5378</hasMember><hasMember>http://orcid.org/0000-0001-6885-9821</hasMember><hasMember>http://orcid.org/0000-0003-3061-1091</hasMember><hasMember>http://orcid.org/0000-0003-4246-5685</hasMember><hasMember>http://orcid.org/0000-0002-2192-403X</hasMember><hasMember>http://orcid.org/0000-0002-0347-8574</hasMember><hasMember>http://orcid.org/0000-0002-7822-2303</hasMember><hasMember>http://orcid.org/0000-0001-8594-506X</hasMember><hasMember>http://orcid.org/0000-0002-1615-3963</hasMember><hasMember>http://orcid.org/0000-0002-3554-6594</hasMember><hasMember>http://orcid.org/0000-0003-3697-394X</hasMember><hasMember>http://orcid.org/0000-0003-2192-431X</hasMember><hasMember>http://orcid.org/0000-0002-5300-3075</hasMember><rightsHolder>http://orcid.org/0000-0003-4703-1974</rightsHolder></group><group><subject>CN=cerp-sfwmd-admins,DC=dataone,DC=org</subject><groupName>cerp-sfwmd-admins</groupName><hasMember>http://orcid.org/0000-0003-2192-431X</hasMember><hasMember>http://orcid.org/0000-0002-8832-272X</hasMember><hasMember>http://orcid.org/0000-0003-4003-1429</hasMember><hasMember>http://orcid.org/0000-0003-0077-4738</hasMember><hasMember>http://orcid.org/0000-0002-9621-1923</hasMember><rightsHolder>http://orcid.org/0000-0003-2192-431X</rightsHolder><rightsHolder>http://orcid.org/0000-0002-8832-272X</rightsHolder><rightsHolder>http://orcid.org/0000-0003-4003-1429</rightsHolder><rightsHolder>http://orcid.org/0000-0003-0077-4738</rightsHolder><rightsHolder>http://orcid.org/0000-0002-9621-1923</rightsHolder></group><group><subject>CN=delta-swg-23,DC=dataone,DC=org</subject><groupName>delta-swg-23</groupName><hasMember>http://orcid.org/0000-0002-0243-7754</hasMember><hasMember>http://orcid.org/0000-0003-0077-4738</hasMember><rightsHolder>http://orcid.org/0000-0002-0243-7754</rightsHolder></group><group><subject>CN=Likely Suspects Framework Users,DC=dataone,DC=org</subject><groupName>Likely Suspects Framework Users</groupName><hasMember>http://orcid.org/0000-0003-1023-4700</hasMember><hasMember>http://orcid.org/0000-0003-1218-3118</hasMember><hasMember>http://orcid.org/0000-0003-2933-1658</hasMember><hasMember>http://orcid.org/0000-0002-5300-3075</hasMember><hasMember>http://orcid.org/0000-0002-0796-6065</hasMember><hasMember>http://orcid.org/0000-0003-0077-4738</hasMember><hasMember>http://orcid.org/0000-0002-0381-3766</hasMember><hasMember>http://orcid.org/0000-0003-0632-7576</hasMember><rightsHolder>http://orcid.org/0000-0003-1023-4700</rightsHolder></group><group><subject>CN=drp-portal-admins,DC=dataone,DC=org</subject><groupName>DRP Portal Administrators</groupName><hasMember>http://orcid.org/0000-0001-5828-6070</hasMember><hasMember>http://orcid.org/0000-0003-0077-4738</hasMember><hasMember>http://orcid.org/0000-0002-6014-8942</hasMember><hasMember>http://orcid.org/0000-0002-1209-5268</hasMember><hasMember>http://orcid.org/0009-0000-1222-1562</hasMember><hasMember>http://orcid.org/0009-0007-8384-5074</hasMember><rightsHolder>http://orcid.org/0000-0001-5828-6070</rightsHolder><rightsHolder>http://orcid.org/0000-0003-0077-4738</rightsHolder><rightsHolder>http://orcid.org/0000-0002-1209-5268</rightsHolder></group><group><subject>CN=knb-data-admins,DC=dataone,DC=org</subject><groupName>KNB Data Repository Administrators</groupName><hasMember>http://orcid.org/0000-0003-4703-1974</hasMember><hasMember>http://orcid.org/0000-0002-8121-2341</hasMember><hasMember>http://orcid.org/0000-0003-0077-4738</hasMember><hasMember>http://orcid.org/0000-0003-3926-7039</hasMember><hasMember>http://orcid.org/0000-0002-0381-3766</hasMember><hasMember>http://orcid.org/0000-0002-2192-403X</hasMember><hasMember>http://orcid.org/0000-0002-1209-5268</hasMember><hasMember>http://orcid.org/0000-0003-3708-6154</hasMember><hasMember>http://orcid.org/0000-0003-2192-431X</hasMember><hasMember>UID=justin kadi,DC=dataone,DC=org</hasMember><hasMember>http://orcid.org/0009-0007-8321-7764</hasMember><hasMember>http://orcid.org/0009-0007-8384-5074</hasMember><hasMember>http://orcid.org/0000-0001-5828-6070</hasMember><rightsHolder>http://orcid.org/0000-0003-4703-1974</rightsHolder><rightsHolder>http://orcid.org/0000-0002-8121-2341</rightsHolder><rightsHolder>http://orcid.org/0000-0003-0077-4738</rightsHolder><rightsHolder>http://orcid.org/0000-0003-2192-431X</rightsHolder></group><group><subject>CN=DataONE-Support,DC=dataone,DC=org</subject><groupName>DataONE-Support</groupName><hasMember>http://orcid.org/0000-0002-1209-5268</hasMember><hasMember>http://orcid.org/0000-0003-2885-3980</hasMember><hasMember>http://orcid.org/0000-0003-4703-1974</hasMember><hasMember>http://orcid.org/0000-0002-8121-2341</hasMember><hasMember>http://orcid.org/0000-0003-0077-4738</hasMember><hasMember>http://orcid.org/0000-0003-3926-7039</hasMember><hasMember>http://orcid.org/0000-0001-8888-547X</hasMember><hasMember>http://orcid.org/0000-0001-8613-8956</hasMember><hasMember>http://orcid.org/0000-0001-5828-6070</hasMember><hasMember>http://orcid.org/0000-0002-1615-3963</hasMember><hasMember>http://orcid.org/0000-0003-2192-431X</hasMember><hasMember>http://orcid.org/0009-0007-8384-5074</hasMember><rightsHolder>http://orcid.org/0000-0002-1209-5268</rightsHolder><rightsHolder>http://orcid.org/0000-0002-8121-2341</rightsHolder><rightsHolder>http://orcid.org/0000-0003-0077-4738</rightsHolder><rightsHolder>http://orcid.org/0000-0003-2192-431X</rightsHolder></group><group><subject>CN=drp-data-admins,DC=dataone,DC=org</subject><groupName>Defense Resiliency Platform Data Administrators</groupName><hasMember>http://orcid.org/0000-0001-5828-6070</hasMember><hasMember>http://orcid.org/0009-0007-8384-5074</hasMember><hasMember>http://orcid.org/0000-0003-0077-4738</hasMember><hasMember>http://orcid.org/0000-0002-6014-8942</hasMember><hasMember>http://orcid.org/0000-0002-1209-5268</hasMember><hasMember>http://orcid.org/0000-0001-9540-1824</hasMember><rightsHolder>http://orcid.org/0000-0001-5828-6070</rightsHolder><rightsHolder>http://orcid.org/0000-0003-0077-4738</rightsHolder><rightsHolder>http://orcid.org/0000-0002-6014-8942</rightsHolder><rightsHolder>http://orcid.org/0000-0002-1209-5268</rightsHolder></group><group><subject>CN=sctld-admins,DC=dataone,DC=org</subject><groupName>sctld-admins</groupName><hasMember>http://orcid.org/0000-0003-4405-7298</hasMember><hasMember>http://orcid.org/0000-0003-0077-4738</hasMember><hasMember>http://orcid.org/0000-0003-3199-6413</hasMember><hasMember>http://orcid.org/0000-0002-1209-5268</hasMember><hasMember>http://orcid.org/0000-0002-9507-391X</hasMember><hasMember>http://orcid.org/0009-0005-6058-0304</hasMember><rightsHolder>http://orcid.org/0000-0003-4405-7298</rightsHolder><rightsHolder>http://orcid.org/0000-0002-1209-5268</rightsHolder></group><group><subject>CN=cib-admins,DC=dataone,DC=org</subject><groupName>cib-admins</groupName><hasMember>http://orcid.org/0000-0002-2661-8912</hasMember><hasMember>http://orcid.org/0000-0003-4703-1974</hasMember><hasMember>http://orcid.org/0009-0009-2697-9572</hasMember><hasMember>http://orcid.org/0000-0003-0077-4738</hasMember><hasMember>http://orcid.org/0000-0001-5828-6070</hasMember><hasMember>http://orcid.org/0000-0002-1209-5268</hasMember><hasMember>http://orcid.org/0000-0002-1615-3963</hasMember><rightsHolder>http://orcid.org/0000-0002-2661-8912</rightsHolder><rightsHolder>http://orcid.org/0000-0003-4703-1974</rightsHolder><rightsHolder>http://orcid.org/0009-0009-2697-9572</rightsHolder><rightsHolder>http://orcid.org/0000-0003-0077-4738</rightsHolder><rightsHolder>http://orcid.org/0000-0001-5828-6070</rightsHolder><rightsHolder>http://orcid.org/0000-0002-1209-5268</rightsHolder><rightsHolder>http://orcid.org/0000-0002-1615-3963</rightsHolder></group><group><subject>CN=cib-curators,DC=dataone,DC=org</subject><groupName>cib-curators</groupName><hasMember>http://orcid.org/0000-0002-2661-8912</hasMember><hasMember>http://orcid.org/0000-0003-4703-1974</hasMember><hasMember>http://orcid.org/0009-0009-2697-9572</hasMember><hasMember>http://orcid.org/0000-0003-0077-4738</hasMember><hasMember>http://orcid.org/0000-0003-0492-5492</hasMember><hasMember>http://orcid.org/0000-0002-1209-5268</hasMember><hasMember>http://orcid.org/0000-0002-1615-3963</hasMember><rightsHolder>http://orcid.org/0000-0002-2661-8912</rightsHolder><rightsHolder>http://orcid.org/0000-0003-4703-1974</rightsHolder><rightsHolder>http://orcid.org/0009-0009-2697-9572</rightsHolder><rightsHolder>http://orcid.org/0000-0003-0077-4738</rightsHolder><rightsHolder>http://orcid.org/0000-0003-0492-5492</rightsHolder><rightsHolder>http://orcid.org/0000-0002-1209-5268</rightsHolder><rightsHolder>http://orcid.org/0000-0002-1615-3963</rightsHolder></group><group><subject>CN=arctic-data-admins,DC=dataone,DC=org</subject><groupName>Arctic Data Center Team</groupName><hasMember>http://orcid.org/0000-0003-3926-7039</hasMember><hasMember>http://orcid.org/0009-0007-8384-5074</hasMember><hasMember>http://orcid.org/0009-0008-2146-4871</hasMember><hasMember>http://orcid.org/0000-0003-2885-3980</hasMember><hasMember>http://orcid.org/0000-0003-4703-1974</hasMember><hasMember>http://orcid.org/0000-0001-8217-4028</hasMember><hasMember>http://orcid.org/0009-0009-9641-8463</hasMember><hasMember>http://orcid.org/0000-0003-0077-4738</hasMember><hasMember>http://orcid.org/0009-0002-4834-9810</hasMember><hasMember>http://orcid.org/0000-0003-4678-5213</hasMember><hasMember>http://orcid.org/0000-0001-5828-6070</hasMember><hasMember>http://orcid.org/0009-0002-5154-5468</hasMember><hasMember>http://orcid.org/0000-0003-0632-7576</hasMember><hasMember>http://orcid.org/0000-0002-1209-5268</hasMember><hasMember>http://orcid.org/0000-0002-1615-3963</hasMember><hasMember>http://orcid.org/0009-0000-6733-6826</hasMember><hasMember>http://orcid.org/0009-0007-8321-7764</hasMember><hasMember>http://orcid.org/0009-0007-0793-8893</hasMember><hasMember>http://orcid.org/0009-0009-3667-4633</hasMember><rightsHolder>http://orcid.org/0000-0003-3926-7039</rightsHolder><rightsHolder>http://orcid.org/0009-0007-8384-5074</rightsHolder><rightsHolder>http://orcid.org/0000-0003-4703-1974</rightsHolder><rightsHolder>http://orcid.org/0000-0003-0077-4738</rightsHolder></group><group><subject>CN=cib-users,DC=dataone,DC=org</subject><groupName>cib-users</groupName><hasMember>http://orcid.org/0000-0003-0492-5492</hasMember><hasMember>http://orcid.org/0000-0001-6228-8212</hasMember><hasMember>http://orcid.org/0009-0006-5867-259X</hasMember><hasMember>http://orcid.org/0000-0003-4703-1974</hasMember><hasMember>http://orcid.org/0000-0002-2661-8912</hasMember><hasMember>http://orcid.org/0009-0003-2042-4345</hasMember><hasMember>http://orcid.org/0000-0002-7879-5902</hasMember><hasMember>http://orcid.org/0000-0002-7407-1181</hasMember><hasMember>http://orcid.org/0009-0006-4406-9183</hasMember><hasMember>http://orcid.org/0000-0003-0077-4738</hasMember><hasMember>http://orcid.org/0000-0001-8678-0930</hasMember><hasMember>http://orcid.org/0000-0002-4907-5797</hasMember><hasMember>http://orcid.org/0009-0005-6973-3143</hasMember><hasMember>http://orcid.org/0000-0001-5620-9645</hasMember><hasMember>http://orcid.org/0000-0002-1209-5268</hasMember><hasMember>http://orcid.org/0000-0002-1615-3963</hasMember><hasMember>http://orcid.org/0009-0009-5952-8655</hasMember><hasMember>UID=joannatang@ucsb.edu,DC=dataone,DC=org</hasMember><rightsHolder>http://orcid.org/0000-0003-0492-5492</rightsHolder><rightsHolder>http://orcid.org/0000-0003-4703-1974</rightsHolder><rightsHolder>http://orcid.org/0000-0002-2661-8912</rightsHolder><rightsHolder>http://orcid.org/0000-0003-0077-4738</rightsHolder><rightsHolder>http://orcid.org/0000-0002-1209-5268</rightsHolder><rightsHolder>http://orcid.org/0000-0002-1615-3963</rightsHolder></group></ns1:subjectInfo>\n"
     ]
    }
   ],
   "source": [
    "# The Staging CN base URL:\n",
    "base_url = \"https://cn-stage.test.dataone.org/cn\"\n",
    "cn = d1_client.cnclient_2_0.CoordinatingNodeClient_2_0(base_url, **options)\n",
    "\n",
    "creds = cn.echoCredentials()\n",
    "print(creds.toxml())\n"
   ]
  },
  {
   "cell_type": "markdown",
   "metadata": {},
   "source": [
    "## Functions for viewing system metadata\n",
    "\n",
    "Each object in DataONE is identified by its PID and is associated with system metadata that describes the object, including its size, format, and replication policy. The system metadata is stored in the repository and can be retrieved using the DataONE API. Let's create a `view` function to print system metadata for a given PID. This function will be used to view the system metadata for our dataset and any replicated objects.\n",
    " "
   ]
  },
  {
   "cell_type": "code",
   "execution_count": 4,
   "metadata": {},
   "outputs": [],
   "source": [
    "def toStr(v):\n",
    "    if isinstance(v, datetime.datetime):\n",
    "        return v.strftime(DATE_FORMAT)\n",
    "    return str(v)\n",
    "\n",
    "def propertyStr(p):\n",
    "    '''String representation of pyxb property\n",
    "    '''\n",
    "    if p is None:\n",
    "        return \"\"\n",
    "    try:\n",
    "        return toStr(p.value())\n",
    "    except:\n",
    "        return toStr(p)\n",
    "\n",
    "def view(sysmeta, title=\"SystemMetadata\"):\n",
    "    '''Print SystemMetadata properties\n",
    "    '''\n",
    "    print(f\"\\n{title}:\")\n",
    "    print(f\"  Identifier: {sysmeta.identifier.value()}\")\n",
    "    print(f\"  Series Identifier: {propertyStr(sysmeta.seriesId)}\")\n",
    "    print(f\"  Modified: {sysmeta.dateSysMetadataModified}\")\n",
    "    print(f\"  Uploaded: {sysmeta.dateUploaded}\")\n",
    "    print(f\"  Format ID: {sysmeta.formatId}\")\n",
    "    print(f\"  Size: {sysmeta.size}\")\n",
    "    print(f\"  Checksum: hash://{sysmeta.checksum.algorithm.lower()}/{sysmeta.checksum.value()}\")\n",
    "    print(f\"  Origin Member Node: {propertyStr(sysmeta.originMemberNode)}\")\n",
    "    print(f\"  Authoritative Member Node: {propertyStr(sysmeta.authoritativeMemberNode)}\")\n",
    "    print(f\"  Obsoletes: {propertyStr(sysmeta.obsoletes)}\")\n",
    "    print(f\"  Obsoleted By: {propertyStr(sysmeta.obsoletedBy)}\")\n",
    "    print(\"  Access policy rules:\")\n",
    "    for rule in sysmeta.accessPolicy.allow:\n",
    "        print(f\"    {', '.join(map(lambda S: S.value(), rule.subject))}  can  {', '.join(rule.permission)}\")\n",
    "    print(\"  Replication policy:\")\n",
    "    print(f\"    Replication allowed: {sysmeta.replicationPolicy.replicationAllowed}\")\n",
    "    print(f\"    Replicas requested: {sysmeta.replicationPolicy.numberReplicas}\")\n",
    "    for node in sysmeta.replicationPolicy.preferredMemberNode:\n",
    "        print(f\"    Preferred node: {node.value()}\")\n",
    "    for node in sysmeta.replicationPolicy.blockedMemberNode:\n",
    "        print(f\"    Blocked node: {node.value()}\")\n",
    "    print(\"  Replicas of this object:\")\n",
    "    for replica in sysmeta.replica:\n",
    "        print(f\"    {replica.replicaMemberNode.value():15} {replica.replicationStatus:10} {replica.replicaVerified}\")"
   ]
  },
  {
   "cell_type": "markdown",
   "metadata": {},
   "source": [
    "## Function to change a replication policy\n",
    "\n",
    "Changing the replication policy allows setting how many replicas of an object are requested, which nodes are preferred for replication, and which nodes are blocked from replication. The replication policy is part of the SystemMetadata for an object. We'll create a function to change key aspects of a replication policy, including:\n",
    "\n",
    "- the number of replicas requested,\n",
    "- the preferred nodes for replication\n",
    "\n",
    "The function will also display the metadata before and after the change was made, so you can see the effect of the change.\n"
   ]
  },
  {
   "cell_type": "code",
   "execution_count": 5,
   "metadata": {},
   "outputs": [],
   "source": [
    "def change_replication_policy(repo, pid, number_replicas=0, preferred_node=None):\n",
    "    '''Change the replication policy to allow replication\n",
    "    '''\n",
    "\n",
    "    try:\n",
    "        sysmeta = repo.getSystemMetadata(pid)\n",
    "        view(sysmeta, \"Original SystemMetadata\")\n",
    "        if number_replicas > 0:\n",
    "            sysmeta.replicationPolicy.replicationAllowed = True\n",
    "            sysmeta.replicationPolicy.numberReplicas = number_replicas\n",
    "            sysmeta.replicationPolicy.preferredMemberNode = [\n",
    "                d1_common.types.dataoneTypes.NodeReference(\"urn:node:mnStageUCSB2\")]\n",
    "        else:\n",
    "            sysmeta.replicationPolicy.replicationAllowed = False\n",
    "            sysmeta.replicationPolicy.numberReplicas = 0\n",
    "\n",
    "        updated_flag = repo.updateSystemMetadata(pid, sysmeta)\n",
    "        if (updated_flag):\n",
    "            sysmeta_new = repo.getSystemMetadata(pid)\n",
    "            view(sysmeta_new, \"Updated SystemMetadata\")\n",
    "\n",
    "    except d1_common.types.exceptions.DataONEException as e:\n",
    "        print(e)"
   ]
  },
  {
   "cell_type": "markdown",
   "metadata": {},
   "source": [
    "## Update the repository with the new replication policy\n",
    "\n"
   ]
  },
  {
   "cell_type": "code",
   "execution_count": null,
   "metadata": {},
   "outputs": [
    {
     "name": "stdout",
     "output_type": "stream",
     "text": [
      "\n",
      "Original SystemMetadata:\n",
      "  Identifier: urn:uuid:c530b4fe-3a14-43b0-8894-dd239b21fc56\n",
      "  Series Identifier: \n",
      "  Modified: 2025-07-24 05:27:45.384000+00:00\n",
      "  Uploaded: 2025-07-24 05:27:44.776000+00:00\n",
      "  Format ID: https://eml.ecoinformatics.org/eml-2.2.0\n",
      "  Size: 2476\n",
      "  Checksum: hash://md5/57860f0890f9dd92a29dd0a7d779cfdb\n",
      "  Origin Member Node: urn:node:mnTestKNB\n",
      "  Authoritative Member Node: urn:node:mnTestKNB\n",
      "  Obsoletes: \n",
      "  Obsoleted By: \n",
      "  Access policy rules:\n",
      "    public  can  read\n",
      "    CN=knb-data-admins,DC=dataone,DC=org  can  read, write, changePermission\n",
      "  Replication policy:\n",
      "    Replication allowed: false\n",
      "    Replicas requested: None\n",
      "  Replicas of this object:\n",
      "\n",
      "Updated SystemMetadata:\n",
      "  Identifier: urn:uuid:c530b4fe-3a14-43b0-8894-dd239b21fc56\n",
      "  Series Identifier: \n",
      "  Modified: 2025-07-24 05:29:52.713000+00:00\n",
      "  Uploaded: 2025-07-24 05:27:44.776000+00:00\n",
      "  Format ID: https://eml.ecoinformatics.org/eml-2.2.0\n",
      "  Size: 2476\n",
      "  Checksum: hash://md5/57860f0890f9dd92a29dd0a7d779cfdb\n",
      "  Origin Member Node: urn:node:mnTestKNB\n",
      "  Authoritative Member Node: urn:node:mnTestKNB\n",
      "  Obsoletes: \n",
      "  Obsoleted By: \n",
      "  Access policy rules:\n",
      "    CN=knb-data-admins,DC=dataone,DC=org  can  read, write, changePermission\n",
      "    public  can  read\n",
      "  Replication policy:\n",
      "    Replication allowed: true\n",
      "    Replicas requested: 1\n",
      "    Preferred node: urn:node:mnStageUCSB2\n",
      "  Replicas of this object:\n"
     ]
    }
   ],
   "source": [
    "# Try and retrieve existing system metadata\n",
    "pid_meta = \"urn:uuid:c530b4fe-3a14-43b0-8894-dd239b21fc56\"\n",
    "#pid_rmap = \"resource_map_urn:uuid:3a06877a-3941-412f-a495-da8608fd4f94\"\n",
    "#pid_png = \"urn:uuid:0f93e94d-6509-4c93-8ea1-a6f7129488ef\"\n",
    "change_replication_policy(repo, pid_meta, number_replicas=1)"
   ]
  },
  {
   "cell_type": "code",
   "execution_count": 26,
   "metadata": {},
   "outputs": [
    {
     "name": "stdout",
     "output_type": "stream",
     "text": [
      "\n",
      "Current SystemMetadata:\n",
      "  Identifier: urn:uuid:c530b4fe-3a14-43b0-8894-dd239b21fc56\n",
      "  Series Identifier: \n",
      "  Modified: 2025-07-24 05:29:52.713000+00:00\n",
      "  Uploaded: 2025-07-24 05:27:44.776000+00:00\n",
      "  Format ID: https://eml.ecoinformatics.org/eml-2.2.0\n",
      "  Size: 2476\n",
      "  Checksum: hash://md5/57860f0890f9dd92a29dd0a7d779cfdb\n",
      "  Origin Member Node: urn:node:mnTestKNB\n",
      "  Authoritative Member Node: urn:node:mnTestKNB\n",
      "  Obsoletes: \n",
      "  Obsoleted By: \n",
      "  Access policy rules:\n",
      "    public  can  read\n",
      "    CN=knb-data-admins,DC=dataone,DC=org  can  read, write, changePermission\n",
      "  Replication policy:\n",
      "    Replication allowed: true\n",
      "    Replicas requested: 1\n",
      "    Preferred node: urn:node:mnStageUCSB2\n",
      "  Replicas of this object:\n",
      "    urn:node:mnTestKNB completed  2025-07-24 05:29:55.075000+00:00\n",
      "    urn:node:cnStage completed  2025-07-24 05:29:55.151000+00:00\n",
      "    urn:node:mnStageUCSB2 completed  2025-07-24 05:30:49.365000+00:00\n"
     ]
    }
   ],
   "source": [
    "try:\n",
    "    sysmeta2 = cn.getSystemMetadata(pid_meta)\n",
    "    view(sysmeta2, \"Current SystemMetadata\")\n",
    "except d1_common.types.exceptions.DataONEException as e:\n",
    "    print(e)"
   ]
  },
  {
   "cell_type": "markdown",
   "metadata": {},
   "source": [
    "# Data Packages\n",
    "\n",
    "Data packages in DataONE are essentially graphs describing the relatonships between objects in a dataset. They are represented as [ORE Resource Maps](https://dataoneorg.github.io/api-documentation/design/DataPackage.html), which are special files that contain metadata about the dataset and its constituent objects.\n",
    "\n",
    "![Data Package](images/data-package.png)\n",
    "\n",
    "In order to change the replication policy for an entire dataset, we need to find all of the members of the data package and then change the replication policy for each member. For example, here is a DataONE query executed in `curl` that uses the SOLR index in DataONE to query and find all of the members of a data package:\n",
    "\n",
    "```bash\n",
    "❯ curl -s \"https://cn-stage.test.dataone.org/cn/v2/query/solr/?q=identifier:urn\\:uuid\\:c530b4fe-3a14-43b0-8894-dd239b21fc56&fl=resourceMap,documents&wt=json\" | jq .response.docs\n",
    "[\n",
    "  {\n",
    "    \"documents\": [\n",
    "      \"urn:uuid:c530b4fe-3a14-43b0-8894-dd239b21fc56\",\n",
    "      \"urn:uuid:c9330b48-ba9a-4a41-8f8a-e8b8cd88650d\",\n",
    "      \"urn:uuid:23f752b5-7950-447e-901b-70464bdeee54\"\n",
    "    ],\n",
    "    \"resourceMap\": [\n",
    "      \"resource_map_urn:uuid:7a0b9271-4525-4334-845f-6a16602d857b\"\n",
    "    ]\n",
    "  }\n",
    "]\n",
    "```\n",
    "\n",
    "By iterating over the list of identifiers and calling the `change_replication_policy()` function, we can change the replication policy for each member of the data package. The `change_replication_policy()` function will also display the system metadata before and after the change, so you can see the effect of the change.\n"
   ]
  },
  {
   "cell_type": "markdown",
   "metadata": {},
   "source": [
    "# DataONE Replication Summary\n",
    "\n",
    "![DataONE Replication](./images/dataone-replication.png)\n"
   ]
  }
 ],
 "metadata": {
  "kernelspec": {
   "display_name": ".venv",
   "language": "python",
   "name": "python3"
  },
  "language_info": {
   "codemirror_mode": {
    "name": "ipython",
    "version": 3
   },
   "file_extension": ".py",
   "mimetype": "text/x-python",
   "name": "python",
   "nbconvert_exporter": "python",
   "pygments_lexer": "ipython3",
   "version": "3.13.2"
  }
 },
 "nbformat": 4,
 "nbformat_minor": 4
}
